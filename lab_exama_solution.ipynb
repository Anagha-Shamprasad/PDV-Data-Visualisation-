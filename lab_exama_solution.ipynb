{
 "cells": [
  {
   "cell_type": "code",
   "execution_count": 114,
   "metadata": {},
   "outputs": [
    {
     "data": {
      "text/plain": [
       "90    1991\n",
       "Name: YEAR, dtype: int64"
      ]
     },
     "execution_count": 114,
     "metadata": {},
     "output_type": "execute_result"
    }
   ],
   "source": [
    "#Problem 1\n",
    "\n",
    "import numpy as np\n",
    "import pandas as pd\n",
    "\n",
    "dfs=pd.read_csv(\"south_pen-India_rainfall_act_dep_1901_2016.csv\")\n",
    "\n",
    "# temp=dfs[dfs[\"Departure Percentage: JUN\"]==dfs[\"Departure Percentage: JUN\"].max()]\n",
    "# temp[\"YEAR\"]\n",
    "\n",
    "temp=dfs[dfs[\"Actual Rainfall: JUN\"]==dfs[\"Actual Rainfall: JUN\"].max()]\n",
    "temp[\"YEAR\"]\n",
    "\n",
    "# decrement=(df[\"Departure Percentage: JUN\"]/100)*df[\"Actual Rainfall: JUN\"]\n",
    "# ans=df[\"Actual Rainfall: JUN\"]+decrement\n",
    "# df[\"JUNE\"]=ans\n",
    "# temp=df[df[\"JUNE\"]==df[\"JUNE\"].max()]\n",
    "# temp[\"YEAR\"]"
   ]
  },
  {
   "cell_type": "code",
   "execution_count": 146,
   "metadata": {},
   "outputs": [
    {
     "name": "stdout",
     "output_type": "stream",
     "text": [
      "17    1918\n",
      "86    1987\n",
      "73    1974\n",
      "71    1972\n",
      "19    1920\n",
      "Name: YEAR, dtype: int64\n",
      "17     1918\n",
      "78     1979\n",
      "86     1987\n",
      "108    2009\n",
      "64     1965\n",
      "Name: YEAR, dtype: int64\n",
      "104    2005\n",
      "112    2013\n",
      "91     1992\n",
      "108    2009\n",
      "71     1972\n",
      "Name: YEAR, dtype: int64\n"
     ]
    }
   ],
   "source": [
    "#Problem 2\n",
    "dfne=pd.read_csv(\"ne-India_rainfall_act_dep_1901_2016.csv\")\n",
    "dfnw=pd.read_csv(\"nw-India_rainfall_act_dep_1901_2016.csv\")\n",
    "dfc=pd.read_csv(\"central-India_rainfall_act_dep_1901_2016.csv\")\n",
    "\n",
    "temp=dfc.sort_values(by=\"Actual Rainfall: JUN-SEPT\")\n",
    "print(temp[\"YEAR\"].head())\n",
    "\n",
    "temp=dfnw.sort_values(by=\"Actual Rainfall: JUN-SEPT\")\n",
    "print(temp[\"YEAR\"].head())\n",
    "\n",
    "temp=dfne.sort_values(by=\"Actual Rainfall: JUN-SEPT\")\n",
    "print(temp[\"YEAR\"].head())\n"
   ]
  },
  {
   "cell_type": "code",
   "execution_count": 147,
   "metadata": {},
   "outputs": [
    {
     "name": "stdout",
     "output_type": "stream",
     "text": [
      "90    1991\n",
      "Name: YEAR, dtype: int64\n"
     ]
    }
   ],
   "source": [
    "#Problem 3\n",
    "def max_rain(file1,month):\n",
    "    df=pd.read_csv(file1)\n",
    "    month=month.lower()\n",
    "    if(month==\"june\"):\n",
    "        temp=df[df[\"Actual Rainfall: JUN\"]==df[\"Actual Rainfall: JUN\"].max()]\n",
    "    elif(month==\"july\"):\n",
    "        temp=df[df[\"Actual Rainfall: JUL\"]==df[\"Actual Rainfall: JUL\"].max()]\n",
    "    elif(month==\"august\"):\n",
    "        temp=df[df[\"Actual Rainfall: AUG\"]==df[\"Actual Rainfall: AUG\"].max()]\n",
    "    elif(month==\"september\"):\n",
    "        temp=df[df[\"Actual Rainfall: SEPT\"]==df[\"Actual Rainfall: SEPT\"].max()]\n",
    "    return temp[\"YEAR\"]\n",
    "\n",
    "print(max_rain(\"south_pen-India_rainfall_act_dep_1901_2016.csv\",\"JUNE\"))\n"
   ]
  },
  {
   "cell_type": "code",
   "execution_count": 148,
   "metadata": {},
   "outputs": [],
   "source": [
    "# for i in range(0,dfne.shape[0]-1):\n",
    "# dfne=pd.read_csv(\"ne-India_rainfall_act_dep_1901_2016.csv\")\n",
    "# l=list(np.where(dfne.loc[0:dfne.shape[0],\"Departure Percentage: JUN-SEPT\"]<-10))\n",
    "# for i in range(len(l)-2):\n",
    "#     print(i)\n",
    "#     a=l[i]\n",
    "#     b=l[i+1]\n",
    "#     c=l[i+2]\n",
    "#     if ((b==(a+1)) and (c==(b+1))):\n",
    "#         print(\"NORTH EAST : \",dfne.loc[a:c+1,'YEAR'])"
   ]
  },
  {
   "cell_type": "code",
   "execution_count": 149,
   "metadata": {},
   "outputs": [
    {
     "name": "stdout",
     "output_type": "stream",
     "text": [
      "NORTH EAST:\n",
      "\n",
      "103    2004\n",
      "104    2005\n",
      "105    2006\n",
      "Name: YEAR, dtype: int64\n",
      "108    2009\n",
      "109    2010\n",
      "110    2011\n",
      "Name: YEAR, dtype: int64\n",
      "\n",
      "NORTH WEST:\n",
      "\n",
      "38    1939\n",
      "39    1940\n",
      "40    1941\n",
      "Name: YEAR, dtype: int64\n",
      "\n",
      "CENTRAL INDIA:\n",
      "\n",
      "83    1984\n",
      "84    1985\n",
      "85    1986\n",
      "Name: YEAR, dtype: int64\n",
      "84    1985\n",
      "85    1986\n",
      "86    1987\n",
      "Name: YEAR, dtype: int64\n",
      "\n",
      "SOUTH:\n",
      "\n",
      "101    2002\n",
      "102    2003\n",
      "103    2004\n",
      "Name: YEAR, dtype: int64\n",
      "\n"
     ]
    }
   ],
   "source": [
    "#PROBLEM 4\n",
    "\n",
    "def consicutive(file):\n",
    "    df=pd.read_csv(file)\n",
    "    for i in range(0,df.shape[0]-2):\n",
    "        temp=df.loc[i:i+2,\"Departure Percentage: JUN-SEPT\"]\n",
    "        count=0\n",
    "        for j in temp:\n",
    "            if(j<-10):\n",
    "                count=count+1\n",
    "                \n",
    "        if(count==3):\n",
    "            print(df.loc[i:i+2,\"YEAR\"])\n",
    "\n",
    "print(\"NORTH EAST:\")\n",
    "print()\n",
    "consicutive(\"ne-India_rainfall_act_dep_1901_2016.csv\")\n",
    "print()\n",
    "\n",
    "print(\"NORTH WEST:\")\n",
    "print()\n",
    "consicutive(\"nw-India_rainfall_act_dep_1901_2016.csv\")\n",
    "print()\n",
    " \n",
    "print(\"CENTRAL INDIA:\")\n",
    "print()\n",
    "consicutive(\"central-India_rainfall_act_dep_1901_2016.csv\")\n",
    "print()\n",
    "    \n",
    "print(\"SOUTH:\")\n",
    "print()\n",
    "consicutive(\"south_pen-India_rainfall_act_dep_1901_2016.csv\")\n",
    "print()\n",
    "    \n"
   ]
  },
  {
   "cell_type": "code",
   "execution_count": 150,
   "metadata": {},
   "outputs": [
    {
     "data": {
      "text/plain": [
       "'Konkan & Goa'"
      ]
     },
     "execution_count": 150,
     "metadata": {},
     "output_type": "execute_result"
    }
   ],
   "source": [
    "#PROGRAM 5\n",
    "df=pd.read_excel(\"MONTHLY_ACTUAL_RAINFALL_FROM_2009_TO_2011.xls\")\n",
    "df[\"NewColumn\"]=(df[\"June 2010 (in millimetre)\"]+df[\"July 2010 (in millimetre)\"]+df[\" August 2010 (in millimetre)\"])/3\n",
    "temp=df[df[\"NewColumn\"]==df[\"NewColumn\"].max()]\n",
    "temp.iloc[0,0]"
   ]
  },
  {
   "cell_type": "code",
   "execution_count": 182,
   "metadata": {},
   "outputs": [
    {
     "ename": "ValueError",
     "evalue": "x and y must have same first dimension, but have shapes (10,) and (2,)",
     "output_type": "error",
     "traceback": [
      "\u001b[1;31m---------------------------------------------------------------------------\u001b[0m",
      "\u001b[1;31mValueError\u001b[0m                                Traceback (most recent call last)",
      "\u001b[1;32m<ipython-input-182-ce45603bc151>\u001b[0m in \u001b[0;36m<module>\u001b[1;34m\u001b[0m\n\u001b[0;32m      9\u001b[0m \u001b[1;31m# plt.xlabel(\"YEARS\")\u001b[0m\u001b[1;33m\u001b[0m\u001b[1;33m\u001b[0m\u001b[1;33m\u001b[0m\u001b[0m\n\u001b[0;32m     10\u001b[0m \u001b[1;31m# plt.ylabel(\"RAINFALL\")\u001b[0m\u001b[1;33m\u001b[0m\u001b[1;33m\u001b[0m\u001b[1;33m\u001b[0m\u001b[0m\n\u001b[1;32m---> 11\u001b[1;33m \u001b[0mplt\u001b[0m\u001b[1;33m.\u001b[0m\u001b[0mplot\u001b[0m\u001b[1;33m(\u001b[0m\u001b[0mx\u001b[0m\u001b[1;33m,\u001b[0m\u001b[0my1\u001b[0m\u001b[1;33m)\u001b[0m\u001b[1;33m\u001b[0m\u001b[1;33m\u001b[0m\u001b[0m\n\u001b[0m\u001b[0;32m     12\u001b[0m \u001b[0mplt\u001b[0m\u001b[1;33m.\u001b[0m\u001b[0mshow\u001b[0m\u001b[1;33m(\u001b[0m\u001b[1;33m)\u001b[0m\u001b[1;33m\u001b[0m\u001b[1;33m\u001b[0m\u001b[0m\n\u001b[0;32m     13\u001b[0m \u001b[1;33m\u001b[0m\u001b[0m\n",
      "\u001b[1;32m~\\Anaconda3\\lib\\site-packages\\matplotlib\\pyplot.py\u001b[0m in \u001b[0;36mplot\u001b[1;34m(scalex, scaley, data, *args, **kwargs)\u001b[0m\n\u001b[0;32m   2787\u001b[0m     return gca().plot(\n\u001b[0;32m   2788\u001b[0m         *args, scalex=scalex, scaley=scaley, **({\"data\": data} if data\n\u001b[1;32m-> 2789\u001b[1;33m         is not None else {}), **kwargs)\n\u001b[0m\u001b[0;32m   2790\u001b[0m \u001b[1;33m\u001b[0m\u001b[0m\n\u001b[0;32m   2791\u001b[0m \u001b[1;33m\u001b[0m\u001b[0m\n",
      "\u001b[1;32m~\\Anaconda3\\lib\\site-packages\\matplotlib\\axes\\_axes.py\u001b[0m in \u001b[0;36mplot\u001b[1;34m(self, scalex, scaley, data, *args, **kwargs)\u001b[0m\n\u001b[0;32m   1664\u001b[0m         \"\"\"\n\u001b[0;32m   1665\u001b[0m         \u001b[0mkwargs\u001b[0m \u001b[1;33m=\u001b[0m \u001b[0mcbook\u001b[0m\u001b[1;33m.\u001b[0m\u001b[0mnormalize_kwargs\u001b[0m\u001b[1;33m(\u001b[0m\u001b[0mkwargs\u001b[0m\u001b[1;33m,\u001b[0m \u001b[0mmlines\u001b[0m\u001b[1;33m.\u001b[0m\u001b[0mLine2D\u001b[0m\u001b[1;33m.\u001b[0m\u001b[0m_alias_map\u001b[0m\u001b[1;33m)\u001b[0m\u001b[1;33m\u001b[0m\u001b[1;33m\u001b[0m\u001b[0m\n\u001b[1;32m-> 1666\u001b[1;33m         \u001b[0mlines\u001b[0m \u001b[1;33m=\u001b[0m \u001b[1;33m[\u001b[0m\u001b[1;33m*\u001b[0m\u001b[0mself\u001b[0m\u001b[1;33m.\u001b[0m\u001b[0m_get_lines\u001b[0m\u001b[1;33m(\u001b[0m\u001b[1;33m*\u001b[0m\u001b[0margs\u001b[0m\u001b[1;33m,\u001b[0m \u001b[0mdata\u001b[0m\u001b[1;33m=\u001b[0m\u001b[0mdata\u001b[0m\u001b[1;33m,\u001b[0m \u001b[1;33m**\u001b[0m\u001b[0mkwargs\u001b[0m\u001b[1;33m)\u001b[0m\u001b[1;33m]\u001b[0m\u001b[1;33m\u001b[0m\u001b[1;33m\u001b[0m\u001b[0m\n\u001b[0m\u001b[0;32m   1667\u001b[0m         \u001b[1;32mfor\u001b[0m \u001b[0mline\u001b[0m \u001b[1;32min\u001b[0m \u001b[0mlines\u001b[0m\u001b[1;33m:\u001b[0m\u001b[1;33m\u001b[0m\u001b[1;33m\u001b[0m\u001b[0m\n\u001b[0;32m   1668\u001b[0m             \u001b[0mself\u001b[0m\u001b[1;33m.\u001b[0m\u001b[0madd_line\u001b[0m\u001b[1;33m(\u001b[0m\u001b[0mline\u001b[0m\u001b[1;33m)\u001b[0m\u001b[1;33m\u001b[0m\u001b[1;33m\u001b[0m\u001b[0m\n",
      "\u001b[1;32m~\\Anaconda3\\lib\\site-packages\\matplotlib\\axes\\_base.py\u001b[0m in \u001b[0;36m__call__\u001b[1;34m(self, *args, **kwargs)\u001b[0m\n\u001b[0;32m    223\u001b[0m                 \u001b[0mthis\u001b[0m \u001b[1;33m+=\u001b[0m \u001b[0margs\u001b[0m\u001b[1;33m[\u001b[0m\u001b[1;36m0\u001b[0m\u001b[1;33m]\u001b[0m\u001b[1;33m,\u001b[0m\u001b[1;33m\u001b[0m\u001b[1;33m\u001b[0m\u001b[0m\n\u001b[0;32m    224\u001b[0m                 \u001b[0margs\u001b[0m \u001b[1;33m=\u001b[0m \u001b[0margs\u001b[0m\u001b[1;33m[\u001b[0m\u001b[1;36m1\u001b[0m\u001b[1;33m:\u001b[0m\u001b[1;33m]\u001b[0m\u001b[1;33m\u001b[0m\u001b[1;33m\u001b[0m\u001b[0m\n\u001b[1;32m--> 225\u001b[1;33m             \u001b[1;32myield\u001b[0m \u001b[1;32mfrom\u001b[0m \u001b[0mself\u001b[0m\u001b[1;33m.\u001b[0m\u001b[0m_plot_args\u001b[0m\u001b[1;33m(\u001b[0m\u001b[0mthis\u001b[0m\u001b[1;33m,\u001b[0m \u001b[0mkwargs\u001b[0m\u001b[1;33m)\u001b[0m\u001b[1;33m\u001b[0m\u001b[1;33m\u001b[0m\u001b[0m\n\u001b[0m\u001b[0;32m    226\u001b[0m \u001b[1;33m\u001b[0m\u001b[0m\n\u001b[0;32m    227\u001b[0m     \u001b[1;32mdef\u001b[0m \u001b[0mget_next_color\u001b[0m\u001b[1;33m(\u001b[0m\u001b[0mself\u001b[0m\u001b[1;33m)\u001b[0m\u001b[1;33m:\u001b[0m\u001b[1;33m\u001b[0m\u001b[1;33m\u001b[0m\u001b[0m\n",
      "\u001b[1;32m~\\Anaconda3\\lib\\site-packages\\matplotlib\\axes\\_base.py\u001b[0m in \u001b[0;36m_plot_args\u001b[1;34m(self, tup, kwargs)\u001b[0m\n\u001b[0;32m    389\u001b[0m             \u001b[0mx\u001b[0m\u001b[1;33m,\u001b[0m \u001b[0my\u001b[0m \u001b[1;33m=\u001b[0m \u001b[0mindex_of\u001b[0m\u001b[1;33m(\u001b[0m\u001b[0mtup\u001b[0m\u001b[1;33m[\u001b[0m\u001b[1;33m-\u001b[0m\u001b[1;36m1\u001b[0m\u001b[1;33m]\u001b[0m\u001b[1;33m)\u001b[0m\u001b[1;33m\u001b[0m\u001b[1;33m\u001b[0m\u001b[0m\n\u001b[0;32m    390\u001b[0m \u001b[1;33m\u001b[0m\u001b[0m\n\u001b[1;32m--> 391\u001b[1;33m         \u001b[0mx\u001b[0m\u001b[1;33m,\u001b[0m \u001b[0my\u001b[0m \u001b[1;33m=\u001b[0m \u001b[0mself\u001b[0m\u001b[1;33m.\u001b[0m\u001b[0m_xy_from_xy\u001b[0m\u001b[1;33m(\u001b[0m\u001b[0mx\u001b[0m\u001b[1;33m,\u001b[0m \u001b[0my\u001b[0m\u001b[1;33m)\u001b[0m\u001b[1;33m\u001b[0m\u001b[1;33m\u001b[0m\u001b[0m\n\u001b[0m\u001b[0;32m    392\u001b[0m \u001b[1;33m\u001b[0m\u001b[0m\n\u001b[0;32m    393\u001b[0m         \u001b[1;32mif\u001b[0m \u001b[0mself\u001b[0m\u001b[1;33m.\u001b[0m\u001b[0mcommand\u001b[0m \u001b[1;33m==\u001b[0m \u001b[1;34m'plot'\u001b[0m\u001b[1;33m:\u001b[0m\u001b[1;33m\u001b[0m\u001b[1;33m\u001b[0m\u001b[0m\n",
      "\u001b[1;32m~\\Anaconda3\\lib\\site-packages\\matplotlib\\axes\\_base.py\u001b[0m in \u001b[0;36m_xy_from_xy\u001b[1;34m(self, x, y)\u001b[0m\n\u001b[0;32m    268\u001b[0m         \u001b[1;32mif\u001b[0m \u001b[0mx\u001b[0m\u001b[1;33m.\u001b[0m\u001b[0mshape\u001b[0m\u001b[1;33m[\u001b[0m\u001b[1;36m0\u001b[0m\u001b[1;33m]\u001b[0m \u001b[1;33m!=\u001b[0m \u001b[0my\u001b[0m\u001b[1;33m.\u001b[0m\u001b[0mshape\u001b[0m\u001b[1;33m[\u001b[0m\u001b[1;36m0\u001b[0m\u001b[1;33m]\u001b[0m\u001b[1;33m:\u001b[0m\u001b[1;33m\u001b[0m\u001b[1;33m\u001b[0m\u001b[0m\n\u001b[0;32m    269\u001b[0m             raise ValueError(\"x and y must have same first dimension, but \"\n\u001b[1;32m--> 270\u001b[1;33m                              \"have shapes {} and {}\".format(x.shape, y.shape))\n\u001b[0m\u001b[0;32m    271\u001b[0m         \u001b[1;32mif\u001b[0m \u001b[0mx\u001b[0m\u001b[1;33m.\u001b[0m\u001b[0mndim\u001b[0m \u001b[1;33m>\u001b[0m \u001b[1;36m2\u001b[0m \u001b[1;32mor\u001b[0m \u001b[0my\u001b[0m\u001b[1;33m.\u001b[0m\u001b[0mndim\u001b[0m \u001b[1;33m>\u001b[0m \u001b[1;36m2\u001b[0m\u001b[1;33m:\u001b[0m\u001b[1;33m\u001b[0m\u001b[1;33m\u001b[0m\u001b[0m\n\u001b[0;32m    272\u001b[0m             raise ValueError(\"x and y can be no greater than 2-D, but have \"\n",
      "\u001b[1;31mValueError\u001b[0m: x and y must have same first dimension, but have shapes (10,) and (2,)"
     ]
    },
    {
     "data": {
      "image/png": "[encoded data removed]",
      "text/plain": [
       "<Figure size 432x288 with 1 Axes>"
      ]
     },
     "metadata": {
      "needs_background": "light"
     },
     "output_type": "display_data"
    }
   ],
   "source": [
    "import matplotlib.pyplot as plt\n",
    "df=pd.read_excel(\"METEOROLOGICAL_SUB_DIVISION_WISE_ANNUAL_RAINFALL.xls\")\n",
    "x=np.arange(2002,2012)\n",
    "# y=df[\"\"]\n",
    "y=df.iloc[33,12]\n",
    "l=df.iloc[33,1:10].values\n",
    "y1=[l,y]\n",
    "\n",
    "# plt.xlabel(\"YEARS\")\n",
    "# plt.ylabel(\"RAINFALL\")\n",
    "plt.plot(x,y1)\n",
    "plt.show()\n",
    "\n"
   ]
  },
  {
   "cell_type": "code",
   "execution_count": null,
   "metadata": {},
   "outputs": [],
   "source": []
  }
 ],
 "metadata": {
  "kernelspec": {
   "display_name": "Python 3",
   "language": "python",
   "name": "python3"
  },
  "language_info": {
   "codemirror_mode": {
    "name": "ipython",
    "version": 3
   },
   "file_extension": ".py",
   "mimetype": "text/x-python",
   "name": "python",
   "nbconvert_exporter": "python",
   "pygments_lexer": "ipython3",
   "version": "3.7.3"
  }
 },
 "nbformat": 4,
 "nbformat_minor": 2
}
